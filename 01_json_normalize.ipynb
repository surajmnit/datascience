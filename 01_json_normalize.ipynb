{
  "nbformat": 4,
  "nbformat_minor": 0,
  "metadata": {
    "colab": {
      "name": "01_json_normalize.ipynb",
      "provenance": [],
      "collapsed_sections": [],
      "include_colab_link": true
    },
    "kernelspec": {
      "name": "python3",
      "display_name": "Python 3"
    }
  },
  "cells": [
    {
      "cell_type": "markdown",
      "metadata": {
        "id": "view-in-github",
        "colab_type": "text"
      },
      "source": [
        "<a href=\"https://colab.research.google.com/github/surajmnit/datascience/blob/main/01_json_normalize.ipynb\" target=\"_parent\"><img src=\"https://colab.research.google.com/assets/colab-badge.svg\" alt=\"Open In Colab\"/></a>"
      ]
    },
    {
      "cell_type": "code",
      "metadata": {
        "id": "EgS_XdlpKKl8",
        "colab": {
          "base_uri": "https://localhost:8080/"
        },
        "outputId": "fd79a686-9c5f-4b64-b1c2-9b4283d4d3d7"
      },
      "source": [
        "!pip install -q atlassian-python-api\n",
        "\n",
        "from atlassian import Jira\n",
        "from IPython.display import display, HTML, display_html\n",
        "import pandas as pd\n",
        "\n",
        "pd.set_option('max_colwidth', 140)"
      ],
      "execution_count": null,
      "outputs": [
        {
          "output_type": "stream",
          "text": [
            "\u001b[?25l\r\u001b[K     |██▊                             | 10kB 18.5MB/s eta 0:00:01\r\u001b[K     |█████▌                          | 20kB 16.9MB/s eta 0:00:01\r\u001b[K     |████████▏                       | 30kB 10.4MB/s eta 0:00:01\r\u001b[K     |███████████                     | 40kB 8.6MB/s eta 0:00:01\r\u001b[K     |█████████████▋                  | 51kB 5.3MB/s eta 0:00:01\r\u001b[K     |████████████████▍               | 61kB 6.2MB/s eta 0:00:01\r\u001b[K     |███████████████████             | 71kB 6.1MB/s eta 0:00:01\r\u001b[K     |█████████████████████▉          | 81kB 6.7MB/s eta 0:00:01\r\u001b[K     |████████████████████████▋       | 92kB 6.1MB/s eta 0:00:01\r\u001b[K     |███████████████████████████▎    | 102kB 6.5MB/s eta 0:00:01\r\u001b[K     |██████████████████████████████  | 112kB 6.5MB/s eta 0:00:01\r\u001b[K     |████████████████████████████████| 122kB 6.5MB/s \n",
            "\u001b[?25h  Installing build dependencies ... \u001b[?25l\u001b[?25hdone\n",
            "  Getting requirements to build wheel ... \u001b[?25l\u001b[?25hdone\n",
            "    Preparing wheel metadata ... \u001b[?25l\u001b[?25hdone\n",
            "  Building wheel for atlassian-python-api (PEP 517) ... \u001b[?25l\u001b[?25hdone\n"
          ],
          "name": "stdout"
        }
      ]
    },
    {
      "cell_type": "code",
      "metadata": {
        "id": "VVPxzPJrOajd"
      },
      "source": [
        "jira = Jira(\n",
        "    url = \"https://surajtr.atlassian.net/\",\n",
        "    username = \"suraj.royal111@gmail.com\",\n",
        "    password = \"3AB9KexivbHZg5H9G9UK6590\",\n",
        ")"
      ],
      "execution_count": null,
      "outputs": []
    },
    {
      "cell_type": "code",
      "metadata": {
        "id": "X5dm2fb-PEns"
      },
      "source": [
        "results = jira.jql(\"project = LEAR\", limit=5, fields=[\"issuetype\", \"status\", \"status\", \"summary\"])"
      ],
      "execution_count": null,
      "outputs": []
    },
    {
      "cell_type": "code",
      "metadata": {
        "id": "2HjGVvRfCNKS"
      },
      "source": [
        "results['issues']"
      ],
      "execution_count": null,
      "outputs": []
    },
    {
      "cell_type": "code",
      "metadata": {
        "id": "TWXA6A9YPHI0"
      },
      "source": [
        "df = pd.DataFrame.from_records(results[\"issues\"], columns=[\"key\", \"fields\",])"
      ],
      "execution_count": null,
      "outputs": []
    },
    {
      "cell_type": "code",
      "metadata": {
        "colab": {
          "base_uri": "https://localhost:8080/",
          "height": 204
        },
        "id": "zoMBz9j5iySJ",
        "outputId": "9caa1bf7-9afc-4a96-88d4-8cde13c37732"
      },
      "source": [
        "df.head()"
      ],
      "execution_count": null,
      "outputs": [
        {
          "output_type": "execute_result",
          "data": {
            "text/html": [
              "<div>\n",
              "<style scoped>\n",
              "    .dataframe tbody tr th:only-of-type {\n",
              "        vertical-align: middle;\n",
              "    }\n",
              "\n",
              "    .dataframe tbody tr th {\n",
              "        vertical-align: top;\n",
              "    }\n",
              "\n",
              "    .dataframe thead th {\n",
              "        text-align: right;\n",
              "    }\n",
              "</style>\n",
              "<table border=\"1\" class=\"dataframe\">\n",
              "  <thead>\n",
              "    <tr style=\"text-align: right;\">\n",
              "      <th></th>\n",
              "      <th>key</th>\n",
              "      <th>fields</th>\n",
              "    </tr>\n",
              "  </thead>\n",
              "  <tbody>\n",
              "    <tr>\n",
              "      <th>0</th>\n",
              "      <td>LEAR-7</td>\n",
              "      <td>{'summary': 'do it asap', 'issuetype': {'self': 'https://surajtr.atlassian.net/rest/api/2/issuetype/10003', 'id': '10003', 'description'...</td>\n",
              "    </tr>\n",
              "    <tr>\n",
              "      <th>1</th>\n",
              "      <td>LEAR-6</td>\n",
              "      <td>{'summary': 'final issue', 'issuetype': {'self': 'https://surajtr.atlassian.net/rest/api/2/issuetype/10001', 'id': '10001', 'description...</td>\n",
              "    </tr>\n",
              "    <tr>\n",
              "      <th>2</th>\n",
              "      <td>LEAR-5</td>\n",
              "      <td>{'summary': 'kcell 2018', 'issuetype': {'self': 'https://surajtr.atlassian.net/rest/api/2/issuetype/10001', 'id': '10001', 'description'...</td>\n",
              "    </tr>\n",
              "    <tr>\n",
              "      <th>3</th>\n",
              "      <td>LEAR-4</td>\n",
              "      <td>{'summary': 'tsa', 'issuetype': {'self': 'https://surajtr.atlassian.net/rest/api/2/issuetype/10001', 'id': '10001', 'description': 'Func...</td>\n",
              "    </tr>\n",
              "    <tr>\n",
              "      <th>4</th>\n",
              "      <td>LEAR-3</td>\n",
              "      <td>{'summary': 'tef peru', 'issuetype': {'self': 'https://surajtr.atlassian.net/rest/api/2/issuetype/10001', 'id': '10001', 'description': ...</td>\n",
              "    </tr>\n",
              "  </tbody>\n",
              "</table>\n",
              "</div>"
            ],
            "text/plain": [
              "      key                                                                                                                                       fields\n",
              "0  LEAR-7  {'summary': 'do it asap', 'issuetype': {'self': 'https://surajtr.atlassian.net/rest/api/2/issuetype/10003', 'id': '10003', 'description'...\n",
              "1  LEAR-6  {'summary': 'final issue', 'issuetype': {'self': 'https://surajtr.atlassian.net/rest/api/2/issuetype/10001', 'id': '10001', 'description...\n",
              "2  LEAR-5  {'summary': 'kcell 2018', 'issuetype': {'self': 'https://surajtr.atlassian.net/rest/api/2/issuetype/10001', 'id': '10001', 'description'...\n",
              "3  LEAR-4  {'summary': 'tsa', 'issuetype': {'self': 'https://surajtr.atlassian.net/rest/api/2/issuetype/10001', 'id': '10001', 'description': 'Func...\n",
              "4  LEAR-3  {'summary': 'tef peru', 'issuetype': {'self': 'https://surajtr.atlassian.net/rest/api/2/issuetype/10001', 'id': '10001', 'description': ..."
            ]
          },
          "metadata": {
            "tags": []
          },
          "execution_count": 5
        }
      ]
    },
    {
      "cell_type": "code",
      "metadata": {
        "id": "y-hM4x3WTuLl"
      },
      "source": [
        "df = pd.DataFrame.from_records(results[\"issues\"], columns=[\"key\", \"fields\",])\n",
        "\n",
        "df = (\n",
        "    df[\"fields\"]\n",
        "    .apply(pd.Series)\n",
        "    .merge(df, left_index=True, right_index = True)\n",
        ")\n",
        "df.drop(columns = \"fields\", inplace = True)"
      ],
      "execution_count": null,
      "outputs": []
    },
    {
      "cell_type": "code",
      "metadata": {
        "id": "qfDJmQq7U7_t",
        "colab": {
          "base_uri": "https://localhost:8080/",
          "height": 289
        },
        "outputId": "0f46df92-ed0d-4b31-9c70-4a71f62955df"
      },
      "source": [
        "# Extract the issue type name and assign it to a new column called \"issue_type\"\n",
        "df_issue_type = (\n",
        "    df[\"issuetype\"]\n",
        "    .apply(pd.Series)\n",
        "    .rename(columns={\"name\": \"issue_type_name\"})[\"issue_type_name\"]\n",
        ")\n",
        "df = df.assign(issue_type_name = df_issue_type)\n",
        "df.drop(columns = \"issuetype\", inplace = True)\n",
        "df"
      ],
      "execution_count": null,
      "outputs": [
        {
          "output_type": "execute_result",
          "data": {
            "text/html": [
              "<div>\n",
              "<style scoped>\n",
              "    .dataframe tbody tr th:only-of-type {\n",
              "        vertical-align: middle;\n",
              "    }\n",
              "\n",
              "    .dataframe tbody tr th {\n",
              "        vertical-align: top;\n",
              "    }\n",
              "\n",
              "    .dataframe thead th {\n",
              "        text-align: right;\n",
              "    }\n",
              "</style>\n",
              "<table border=\"1\" class=\"dataframe\">\n",
              "  <thead>\n",
              "    <tr style=\"text-align: right;\">\n",
              "      <th></th>\n",
              "      <th>summary</th>\n",
              "      <th>status</th>\n",
              "      <th>key</th>\n",
              "      <th>issue_type_name</th>\n",
              "    </tr>\n",
              "  </thead>\n",
              "  <tbody>\n",
              "    <tr>\n",
              "      <th>0</th>\n",
              "      <td>do it asap</td>\n",
              "      <td>{'self': 'https://surajtr.atlassian.net/rest/api/2/status/10000', 'description': '', 'iconUrl': 'https://surajtr.atlassian.net/', 'name'...</td>\n",
              "      <td>LEAR-7</td>\n",
              "      <td>Sub-task</td>\n",
              "    </tr>\n",
              "    <tr>\n",
              "      <th>1</th>\n",
              "      <td>final issue</td>\n",
              "      <td>{'self': 'https://surajtr.atlassian.net/rest/api/2/status/10000', 'description': '', 'iconUrl': 'https://surajtr.atlassian.net/', 'name'...</td>\n",
              "      <td>LEAR-6</td>\n",
              "      <td>Story</td>\n",
              "    </tr>\n",
              "    <tr>\n",
              "      <th>2</th>\n",
              "      <td>kcell 2018</td>\n",
              "      <td>{'self': 'https://surajtr.atlassian.net/rest/api/2/status/10000', 'description': '', 'iconUrl': 'https://surajtr.atlassian.net/', 'name'...</td>\n",
              "      <td>LEAR-5</td>\n",
              "      <td>Story</td>\n",
              "    </tr>\n",
              "    <tr>\n",
              "      <th>3</th>\n",
              "      <td>tsa</td>\n",
              "      <td>{'self': 'https://surajtr.atlassian.net/rest/api/2/status/10000', 'description': '', 'iconUrl': 'https://surajtr.atlassian.net/', 'name'...</td>\n",
              "      <td>LEAR-4</td>\n",
              "      <td>Story</td>\n",
              "    </tr>\n",
              "    <tr>\n",
              "      <th>4</th>\n",
              "      <td>tef peru</td>\n",
              "      <td>{'self': 'https://surajtr.atlassian.net/rest/api/2/status/10000', 'description': '', 'iconUrl': 'https://surajtr.atlassian.net/', 'name'...</td>\n",
              "      <td>LEAR-3</td>\n",
              "      <td>Story</td>\n",
              "    </tr>\n",
              "  </tbody>\n",
              "</table>\n",
              "</div>"
            ],
            "text/plain": [
              "       summary  ... issue_type_name\n",
              "0   do it asap  ...        Sub-task\n",
              "1  final issue  ...           Story\n",
              "2   kcell 2018  ...           Story\n",
              "3          tsa  ...           Story\n",
              "4     tef peru  ...           Story\n",
              "\n",
              "[5 rows x 4 columns]"
            ]
          },
          "metadata": {
            "tags": []
          },
          "execution_count": 7
        }
      ]
    },
    {
      "cell_type": "code",
      "metadata": {
        "id": "we1-WQmrbE0u",
        "colab": {
          "base_uri": "https://localhost:8080/",
          "height": 204
        },
        "outputId": "c7aa95c2-6492-4071-ad2a-3eb1479f2639"
      },
      "source": [
        "FIELDS = [\"key\", \"fields.summary\", \"fields.issuetype.name\", \"fields.status.name\", \"fields.status.statusCategory.name\"]\n",
        "df = pd.json_normalize(results[\"issues\"])\n",
        "df[FIELDS]"
      ],
      "execution_count": null,
      "outputs": [
        {
          "output_type": "execute_result",
          "data": {
            "text/html": [
              "<div>\n",
              "<style scoped>\n",
              "    .dataframe tbody tr th:only-of-type {\n",
              "        vertical-align: middle;\n",
              "    }\n",
              "\n",
              "    .dataframe tbody tr th {\n",
              "        vertical-align: top;\n",
              "    }\n",
              "\n",
              "    .dataframe thead th {\n",
              "        text-align: right;\n",
              "    }\n",
              "</style>\n",
              "<table border=\"1\" class=\"dataframe\">\n",
              "  <thead>\n",
              "    <tr style=\"text-align: right;\">\n",
              "      <th></th>\n",
              "      <th>key</th>\n",
              "      <th>fields.summary</th>\n",
              "      <th>fields.issuetype.name</th>\n",
              "      <th>fields.status.name</th>\n",
              "      <th>fields.status.statusCategory.name</th>\n",
              "    </tr>\n",
              "  </thead>\n",
              "  <tbody>\n",
              "    <tr>\n",
              "      <th>0</th>\n",
              "      <td>LEAR-7</td>\n",
              "      <td>do it asap</td>\n",
              "      <td>Sub-task</td>\n",
              "      <td>Backlog</td>\n",
              "      <td>To Do</td>\n",
              "    </tr>\n",
              "    <tr>\n",
              "      <th>1</th>\n",
              "      <td>LEAR-6</td>\n",
              "      <td>final issue</td>\n",
              "      <td>Story</td>\n",
              "      <td>Backlog</td>\n",
              "      <td>To Do</td>\n",
              "    </tr>\n",
              "    <tr>\n",
              "      <th>2</th>\n",
              "      <td>LEAR-5</td>\n",
              "      <td>kcell 2018</td>\n",
              "      <td>Story</td>\n",
              "      <td>Backlog</td>\n",
              "      <td>To Do</td>\n",
              "    </tr>\n",
              "    <tr>\n",
              "      <th>3</th>\n",
              "      <td>LEAR-4</td>\n",
              "      <td>tsa</td>\n",
              "      <td>Story</td>\n",
              "      <td>Backlog</td>\n",
              "      <td>To Do</td>\n",
              "    </tr>\n",
              "    <tr>\n",
              "      <th>4</th>\n",
              "      <td>LEAR-3</td>\n",
              "      <td>tef peru</td>\n",
              "      <td>Story</td>\n",
              "      <td>Backlog</td>\n",
              "      <td>To Do</td>\n",
              "    </tr>\n",
              "  </tbody>\n",
              "</table>\n",
              "</div>"
            ],
            "text/plain": [
              "      key fields.summary  ... fields.status.name fields.status.statusCategory.name\n",
              "0  LEAR-7     do it asap  ...            Backlog                             To Do\n",
              "1  LEAR-6    final issue  ...            Backlog                             To Do\n",
              "2  LEAR-5     kcell 2018  ...            Backlog                             To Do\n",
              "3  LEAR-4            tsa  ...            Backlog                             To Do\n",
              "4  LEAR-3       tef peru  ...            Backlog                             To Do\n",
              "\n",
              "[5 rows x 5 columns]"
            ]
          },
          "metadata": {
            "tags": []
          },
          "execution_count": 8
        }
      ]
    },
    {
      "cell_type": "markdown",
      "metadata": {
        "id": "AIrmLg5A_mAi"
      },
      "source": [
        "## Some Extras"
      ]
    },
    {
      "cell_type": "code",
      "metadata": {
        "id": "XDV6YkAM_qEh",
        "colab": {
          "base_uri": "https://localhost:8080/",
          "height": 204
        },
        "outputId": "a1599f68-123b-4ea0-a16f-9c7e0909b01a"
      },
      "source": [
        "# Use record_path instead of passing the list contained in results[\"issues\"]\n",
        "pd.json_normalize(results, record_path=\"issues\")[FIELDS]"
      ],
      "execution_count": null,
      "outputs": [
        {
          "output_type": "execute_result",
          "data": {
            "text/html": [
              "<div>\n",
              "<style scoped>\n",
              "    .dataframe tbody tr th:only-of-type {\n",
              "        vertical-align: middle;\n",
              "    }\n",
              "\n",
              "    .dataframe tbody tr th {\n",
              "        vertical-align: top;\n",
              "    }\n",
              "\n",
              "    .dataframe thead th {\n",
              "        text-align: right;\n",
              "    }\n",
              "</style>\n",
              "<table border=\"1\" class=\"dataframe\">\n",
              "  <thead>\n",
              "    <tr style=\"text-align: right;\">\n",
              "      <th></th>\n",
              "      <th>key</th>\n",
              "      <th>fields.summary</th>\n",
              "      <th>fields.issuetype.name</th>\n",
              "      <th>fields.status.name</th>\n",
              "      <th>fields.status.statusCategory.name</th>\n",
              "    </tr>\n",
              "  </thead>\n",
              "  <tbody>\n",
              "    <tr>\n",
              "      <th>0</th>\n",
              "      <td>LEAR-7</td>\n",
              "      <td>do it asap</td>\n",
              "      <td>Sub-task</td>\n",
              "      <td>Backlog</td>\n",
              "      <td>To Do</td>\n",
              "    </tr>\n",
              "    <tr>\n",
              "      <th>1</th>\n",
              "      <td>LEAR-6</td>\n",
              "      <td>final issue</td>\n",
              "      <td>Story</td>\n",
              "      <td>Backlog</td>\n",
              "      <td>To Do</td>\n",
              "    </tr>\n",
              "    <tr>\n",
              "      <th>2</th>\n",
              "      <td>LEAR-5</td>\n",
              "      <td>kcell 2018</td>\n",
              "      <td>Story</td>\n",
              "      <td>Backlog</td>\n",
              "      <td>To Do</td>\n",
              "    </tr>\n",
              "    <tr>\n",
              "      <th>3</th>\n",
              "      <td>LEAR-4</td>\n",
              "      <td>tsa</td>\n",
              "      <td>Story</td>\n",
              "      <td>Backlog</td>\n",
              "      <td>To Do</td>\n",
              "    </tr>\n",
              "    <tr>\n",
              "      <th>4</th>\n",
              "      <td>LEAR-3</td>\n",
              "      <td>tef peru</td>\n",
              "      <td>Story</td>\n",
              "      <td>Backlog</td>\n",
              "      <td>To Do</td>\n",
              "    </tr>\n",
              "  </tbody>\n",
              "</table>\n",
              "</div>"
            ],
            "text/plain": [
              "      key fields.summary  ... fields.status.name fields.status.statusCategory.name\n",
              "0  LEAR-7     do it asap  ...            Backlog                             To Do\n",
              "1  LEAR-6    final issue  ...            Backlog                             To Do\n",
              "2  LEAR-5     kcell 2018  ...            Backlog                             To Do\n",
              "3  LEAR-4            tsa  ...            Backlog                             To Do\n",
              "4  LEAR-3       tef peru  ...            Backlog                             To Do\n",
              "\n",
              "[5 rows x 5 columns]"
            ]
          },
          "metadata": {
            "tags": []
          },
          "execution_count": 9
        }
      ]
    },
    {
      "cell_type": "code",
      "metadata": {
        "id": "QZdtDUYaAVQO",
        "colab": {
          "base_uri": "https://localhost:8080/",
          "height": 359
        },
        "outputId": "b58de804-7dfa-41ff-a9e4-599ad1a1322a"
      },
      "source": [
        "# Only recurse down to the second level, in this case the statusCategory name field won't be included in the resulting DataFrame.\n",
        "pd.json_normalize(results, record_path=\"issues\", max_level = 2)[FIELDS]"
      ],
      "execution_count": null,
      "outputs": [
        {
          "output_type": "error",
          "ename": "KeyError",
          "evalue": "ignored",
          "traceback": [
            "\u001b[0;31m---------------------------------------------------------------------------\u001b[0m",
            "\u001b[0;31mKeyError\u001b[0m                                  Traceback (most recent call last)",
            "\u001b[0;32m<ipython-input-10-24fba5ef117b>\u001b[0m in \u001b[0;36m<module>\u001b[0;34m()\u001b[0m\n\u001b[1;32m      1\u001b[0m \u001b[0;31m# Only recurse down to the second level, in this case the statusCategory name field won't be included in the resulting DataFrame.\u001b[0m\u001b[0;34m\u001b[0m\u001b[0;34m\u001b[0m\u001b[0;34m\u001b[0m\u001b[0m\n\u001b[0;32m----> 2\u001b[0;31m \u001b[0mpd\u001b[0m\u001b[0;34m.\u001b[0m\u001b[0mjson_normalize\u001b[0m\u001b[0;34m(\u001b[0m\u001b[0mresults\u001b[0m\u001b[0;34m,\u001b[0m \u001b[0mrecord_path\u001b[0m\u001b[0;34m=\u001b[0m\u001b[0;34m\"issues\"\u001b[0m\u001b[0;34m,\u001b[0m \u001b[0mmax_level\u001b[0m \u001b[0;34m=\u001b[0m \u001b[0;36m2\u001b[0m\u001b[0;34m)\u001b[0m\u001b[0;34m[\u001b[0m\u001b[0mFIELDS\u001b[0m\u001b[0;34m]\u001b[0m\u001b[0;34m\u001b[0m\u001b[0;34m\u001b[0m\u001b[0m\n\u001b[0m",
            "\u001b[0;32m/usr/local/lib/python3.7/dist-packages/pandas/core/frame.py\u001b[0m in \u001b[0;36m__getitem__\u001b[0;34m(self, key)\u001b[0m\n\u001b[1;32m   2910\u001b[0m             \u001b[0;32mif\u001b[0m \u001b[0mis_iterator\u001b[0m\u001b[0;34m(\u001b[0m\u001b[0mkey\u001b[0m\u001b[0;34m)\u001b[0m\u001b[0;34m:\u001b[0m\u001b[0;34m\u001b[0m\u001b[0;34m\u001b[0m\u001b[0m\n\u001b[1;32m   2911\u001b[0m                 \u001b[0mkey\u001b[0m \u001b[0;34m=\u001b[0m \u001b[0mlist\u001b[0m\u001b[0;34m(\u001b[0m\u001b[0mkey\u001b[0m\u001b[0;34m)\u001b[0m\u001b[0;34m\u001b[0m\u001b[0;34m\u001b[0m\u001b[0m\n\u001b[0;32m-> 2912\u001b[0;31m             \u001b[0mindexer\u001b[0m \u001b[0;34m=\u001b[0m \u001b[0mself\u001b[0m\u001b[0;34m.\u001b[0m\u001b[0mloc\u001b[0m\u001b[0;34m.\u001b[0m\u001b[0m_get_listlike_indexer\u001b[0m\u001b[0;34m(\u001b[0m\u001b[0mkey\u001b[0m\u001b[0;34m,\u001b[0m \u001b[0maxis\u001b[0m\u001b[0;34m=\u001b[0m\u001b[0;36m1\u001b[0m\u001b[0;34m,\u001b[0m \u001b[0mraise_missing\u001b[0m\u001b[0;34m=\u001b[0m\u001b[0;32mTrue\u001b[0m\u001b[0;34m)\u001b[0m\u001b[0;34m[\u001b[0m\u001b[0;36m1\u001b[0m\u001b[0;34m]\u001b[0m\u001b[0;34m\u001b[0m\u001b[0;34m\u001b[0m\u001b[0m\n\u001b[0m\u001b[1;32m   2913\u001b[0m \u001b[0;34m\u001b[0m\u001b[0m\n\u001b[1;32m   2914\u001b[0m         \u001b[0;31m# take() does not accept boolean indexers\u001b[0m\u001b[0;34m\u001b[0m\u001b[0;34m\u001b[0m\u001b[0;34m\u001b[0m\u001b[0m\n",
            "\u001b[0;32m/usr/local/lib/python3.7/dist-packages/pandas/core/indexing.py\u001b[0m in \u001b[0;36m_get_listlike_indexer\u001b[0;34m(self, key, axis, raise_missing)\u001b[0m\n\u001b[1;32m   1252\u001b[0m             \u001b[0mkeyarr\u001b[0m\u001b[0;34m,\u001b[0m \u001b[0mindexer\u001b[0m\u001b[0;34m,\u001b[0m \u001b[0mnew_indexer\u001b[0m \u001b[0;34m=\u001b[0m \u001b[0max\u001b[0m\u001b[0;34m.\u001b[0m\u001b[0m_reindex_non_unique\u001b[0m\u001b[0;34m(\u001b[0m\u001b[0mkeyarr\u001b[0m\u001b[0;34m)\u001b[0m\u001b[0;34m\u001b[0m\u001b[0;34m\u001b[0m\u001b[0m\n\u001b[1;32m   1253\u001b[0m \u001b[0;34m\u001b[0m\u001b[0m\n\u001b[0;32m-> 1254\u001b[0;31m         \u001b[0mself\u001b[0m\u001b[0;34m.\u001b[0m\u001b[0m_validate_read_indexer\u001b[0m\u001b[0;34m(\u001b[0m\u001b[0mkeyarr\u001b[0m\u001b[0;34m,\u001b[0m \u001b[0mindexer\u001b[0m\u001b[0;34m,\u001b[0m \u001b[0maxis\u001b[0m\u001b[0;34m,\u001b[0m \u001b[0mraise_missing\u001b[0m\u001b[0;34m=\u001b[0m\u001b[0mraise_missing\u001b[0m\u001b[0;34m)\u001b[0m\u001b[0;34m\u001b[0m\u001b[0;34m\u001b[0m\u001b[0m\n\u001b[0m\u001b[1;32m   1255\u001b[0m         \u001b[0;32mreturn\u001b[0m \u001b[0mkeyarr\u001b[0m\u001b[0;34m,\u001b[0m \u001b[0mindexer\u001b[0m\u001b[0;34m\u001b[0m\u001b[0;34m\u001b[0m\u001b[0m\n\u001b[1;32m   1256\u001b[0m \u001b[0;34m\u001b[0m\u001b[0m\n",
            "\u001b[0;32m/usr/local/lib/python3.7/dist-packages/pandas/core/indexing.py\u001b[0m in \u001b[0;36m_validate_read_indexer\u001b[0;34m(self, key, indexer, axis, raise_missing)\u001b[0m\n\u001b[1;32m   1302\u001b[0m             \u001b[0;32mif\u001b[0m \u001b[0mraise_missing\u001b[0m\u001b[0;34m:\u001b[0m\u001b[0;34m\u001b[0m\u001b[0;34m\u001b[0m\u001b[0m\n\u001b[1;32m   1303\u001b[0m                 \u001b[0mnot_found\u001b[0m \u001b[0;34m=\u001b[0m \u001b[0mlist\u001b[0m\u001b[0;34m(\u001b[0m\u001b[0mset\u001b[0m\u001b[0;34m(\u001b[0m\u001b[0mkey\u001b[0m\u001b[0;34m)\u001b[0m \u001b[0;34m-\u001b[0m \u001b[0mset\u001b[0m\u001b[0;34m(\u001b[0m\u001b[0max\u001b[0m\u001b[0;34m)\u001b[0m\u001b[0;34m)\u001b[0m\u001b[0;34m\u001b[0m\u001b[0;34m\u001b[0m\u001b[0m\n\u001b[0;32m-> 1304\u001b[0;31m                 \u001b[0;32mraise\u001b[0m \u001b[0mKeyError\u001b[0m\u001b[0;34m(\u001b[0m\u001b[0;34mf\"{not_found} not in index\"\u001b[0m\u001b[0;34m)\u001b[0m\u001b[0;34m\u001b[0m\u001b[0;34m\u001b[0m\u001b[0m\n\u001b[0m\u001b[1;32m   1305\u001b[0m \u001b[0;34m\u001b[0m\u001b[0m\n\u001b[1;32m   1306\u001b[0m             \u001b[0;31m# we skip the warning on Categorical\u001b[0m\u001b[0;34m\u001b[0m\u001b[0;34m\u001b[0m\u001b[0;34m\u001b[0m\u001b[0m\n",
            "\u001b[0;31mKeyError\u001b[0m: \"['fields.status.statusCategory.name'] not in index\""
          ]
        }
      ]
    },
    {
      "cell_type": "code",
      "metadata": {
        "id": "xOTdjI3i_vMm"
      },
      "source": [
        "# Separate level prefixes with a \"-\" instead of the default \".\"\n",
        "FIELDS = [\"key\", \"fields-summary\", \"fields-issuetype-name\", \"fields-status-name\", \"fields-status-statusCategory-name\"]\n",
        "pd.json_normalize(results[\"issues\"], sep = \"-\")[FIELDS]"
      ],
      "execution_count": null,
      "outputs": []
    }
  ]
}